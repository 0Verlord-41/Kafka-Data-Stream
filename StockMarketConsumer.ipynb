{
 "cells": [
  {
   "cell_type": "code",
   "execution_count": 1,
   "id": "f143faa2-c93b-4745-b6cf-c180ecf52778",
   "metadata": {},
   "outputs": [],
   "source": [
    "import six\n",
    "import sys\n",
    "if sys.version_info >= (3, 12, 0):\n",
    "    sys.modules['kafka.vendor.six.moves'] = six.moves\n",
    "from kafka import KafkaConsumer\n",
    "from time import sleep\n",
    "from json import dumps,loads\n",
    "import json\n",
    "from s3fs import S3FileSystem"
   ]
  },
  {
   "cell_type": "code",
   "execution_count": 2,
   "id": "fd644cb9-ac5e-415d-9be4-dd35c6870de9",
   "metadata": {},
   "outputs": [],
   "source": [
    "consumer = KafkaConsumer(\n",
    "    'demo_test',\n",
    "     bootstrap_servers=['IP:9092'],\n",
    "    value_deserializer=lambda x: loads(x.decode('utf-8')))"
   ]
  },
  {
   "cell_type": "code",
   "execution_count": null,
   "id": "ad6ff355-edfa-4e22-9069-7e3355153a24",
   "metadata": {},
   "outputs": [],
   "source": [
    "# for c in consumer:\n",
    "#    print(c.value)"
   ]
  },
  {
   "cell_type": "code",
   "execution_count": 3,
   "id": "ba04e59d-89ca-4cd2-9236-668b0e7a8368",
   "metadata": {},
   "outputs": [],
   "source": [
    "s3 = S3FileSystem()"
   ]
  },
  {
   "cell_type": "code",
   "execution_count": null,
   "id": "57837fd0-8a82-4dfc-be56-63246bdff752",
   "metadata": {},
   "outputs": [],
   "source": [
    "for count, i in enumerate(consumer):\n",
    "    with s3.open(\"S3_bucket_{}.json\".format(count), 'w') as file:\n",
    "        json.dump(i.value, file)"
   ]
  }
 ],
 "metadata": {
  "kernelspec": {
   "display_name": "Python 3 (ipykernel)",
   "language": "python",
   "name": "python3"
  },
  "language_info": {
   "codemirror_mode": {
    "name": "ipython",
    "version": 3
   },
   "file_extension": ".py",
   "mimetype": "text/x-python",
   "name": "python",
   "nbconvert_exporter": "python",
   "pygments_lexer": "ipython3",
   "version": "3.12.4"
  }
 },
 "nbformat": 4,
 "nbformat_minor": 5
}
